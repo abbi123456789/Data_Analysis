{
 "cells": [
  {
   "cell_type": "code",
   "execution_count": 3,
   "metadata": {},
   "outputs": [],
   "source": [
    "import scrapy"
   ]
  },
  {
   "cell_type": "code",
   "execution_count": 4,
   "metadata": {},
   "outputs": [
    {
     "name": "stdout",
     "output_type": "stream",
     "text": [
      "Requirement already satisfied: fake-useragent in d:\\python39\\lib\\site-packages (2.0.3)\n",
      "Requirement already satisfied: importlib-resources>=6.0 in d:\\python39\\lib\\site-packages (from fake-useragent) (6.5.2)\n",
      "Requirement already satisfied: zipp>=3.1.0 in c:\\users\\abhir\\appdata\\roaming\\python\\python39\\site-packages (from importlib-resources>=6.0->fake-useragent) (3.15.0)\n",
      "Note: you may need to restart the kernel to use updated packages.\n"
     ]
    },
    {
     "name": "stderr",
     "output_type": "stream",
     "text": [
      "WARNING: You are using pip version 21.1.3; however, version 24.3.1 is available.\n",
      "You should consider upgrading via the 'd:\\Python39\\python.exe -m pip install --upgrade pip' command.\n"
     ]
    }
   ],
   "source": [
    "pip install fake-useragent\n"
   ]
  },
  {
   "cell_type": "code",
   "execution_count": 5,
   "metadata": {},
   "outputs": [],
   "source": [
    "from fake_useragent import UserAgent\n",
    "from scrapy.utils.project import get_project_settings"
   ]
  },
  {
   "cell_type": "code",
   "execution_count": 6,
   "metadata": {},
   "outputs": [],
   "source": [
    "class AmazonSpider(scrapy.Spider):\n",
    "    name = \"amazon\"\n",
    "    allowed_domains = [\"amazon.in\"]\n",
    "    start_urls = [\n",
    "        \"https://www.amazon.in/s?k=mushroom\"\n",
    "    ]\n",
    "\n",
    "    custom_settings = {\n",
    "        \"DOWNLOAD_DELAY\": 2,  # 2-second delay between requests\n",
    "        \"CONCURRENT_REQUESTS_PER_DOMAIN\": 2,  # Limit concurrent requests\n",
    "        \"USER_AGENT\": UserAgent().random,  # Randomize User-Agent\n",
    "        \"FEEDS\": {\n",
    "            \"output.csv\": {\"format\": \"csv\"},  # Save output to CSV\n",
    "        },\n",
    "    }\n",
    "\n",
    "    def parse(self, response):\n",
    "        # Select product containers\n",
    "        products = response.xpath(\"//div[@data-component-type='s-search-result']\")\n",
    "        for product in products:\n",
    "            yield {\n",
    "                \"product_name\": product.xpath(\".//h2/a/span/text()\").get(),\n",
    "                \"seller\": product.xpath(\".//span[contains(text(),'by')]/following-sibling::span/text()\").get(),\n",
    "                \"price\": product.xpath(\".//span[@class='a-price-whole']/text()\").get(),\n",
    "                \"ratings\": product.xpath(\".//span[@class='a-icon-alt']/text()\").get(),\n",
    "                \"reviews\": product.xpath(\".//span[@aria-label]/following-sibling::span[@class='a-size-base']/text()\").get(),\n",
    "            }\n",
    "\n",
    "        # Find and follow the next page link\n",
    "        next_page = response.xpath(\"//a[contains(@class,'s-pagination-next')]/@href\").get()\n",
    "        if next_page:\n",
    "            \n",
    "            yield response.follow(next_page, callback=self.parse)"
   ]
  }
 ],
 "metadata": {
  "kernelspec": {
   "display_name": "Python 3",
   "language": "python",
   "name": "python3"
  },
  "language_info": {
   "codemirror_mode": {
    "name": "ipython",
    "version": 3
   },
   "file_extension": ".py",
   "mimetype": "text/x-python",
   "name": "python",
   "nbconvert_exporter": "python",
   "pygments_lexer": "ipython3",
   "version": "3.9.6"
  }
 },
 "nbformat": 4,
 "nbformat_minor": 2
}
